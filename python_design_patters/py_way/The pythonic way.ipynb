{
 "cells": [
  {
   "cell_type": "markdown",
   "metadata": {
    "collapsed": true
   },
   "source": [
    "### Filters"
   ]
  },
  {
   "cell_type": "code",
   "execution_count": 2,
   "metadata": {},
   "outputs": [
    {
     "name": "stdout",
     "output_type": "stream",
     "text": [
      "['a', 'n', ' ', 'y', 'o', 'u', ' ', 'f', 'i', 'l', 'e', 'r', ' ', 'e', '!', '!']\n"
     ]
    }
   ],
   "source": [
    "def filterLowerCaseLetters(letter):\n",
    "    if letter.isupper():\n",
    "        return False\n",
    "    return True\n",
    "\n",
    "chars = \"Can you filTer Me!!\"\n",
    "print(list(filter(filterLowerCaseLetters, chars)))"
   ]
  },
  {
   "cell_type": "markdown",
   "metadata": {},
   "source": [
    "### Map"
   ]
  },
  {
   "cell_type": "code",
   "execution_count": 5,
   "metadata": {},
   "outputs": [
    {
     "name": "stdout",
     "output_type": "stream",
     "text": [
      "['B', 'C', 'C', 'A', 'C', 'C']\n"
     ]
    }
   ],
   "source": [
    "def toGrade(mark):\n",
    "    if mark > 90:\n",
    "        return \"A\"\n",
    "    elif mark > 80:\n",
    "        return \"B\"\n",
    "    else:\n",
    "        return \"C\"\n",
    "\n",
    "marks = [87,23,12,100,32,67]\n",
    "print(list(map(toGrade, marks)))"
   ]
  },
  {
   "cell_type": "markdown",
   "metadata": {},
   "source": [
    "***\n",
    "### Itertools - cycle"
   ]
  },
  {
   "cell_type": "code",
   "execution_count": 7,
   "metadata": {
    "scrolled": true
   },
   "outputs": [
    {
     "name": "stdout",
     "output_type": "stream",
     "text": [
      "dev\n",
      "marketing\n",
      "dev\n"
     ]
    }
   ],
   "source": [
    "import itertools\n",
    "\n",
    "jobs = [\"dev\", \"marketing\"]\n",
    "job_cycle = itertools.cycle(jobs)\n",
    "print(next(job_cycle))\n",
    "print(next(job_cycle))\n",
    "print(next(job_cycle)) #back to the begining\n"
   ]
  },
  {
   "cell_type": "markdown",
   "metadata": {},
   "source": [
    "***\n",
    "### Itertools - count"
   ]
  },
  {
   "cell_type": "code",
   "execution_count": 9,
   "metadata": {},
   "outputs": [
    {
     "name": "stdout",
     "output_type": "stream",
     "text": [
      "100\n",
      "110\n"
     ]
    }
   ],
   "source": [
    "import itertools\n",
    "\n",
    "count = itertools.count(100,10) #increases the counter in 10 from 100\n",
    "print(next(count))\n",
    "print(next(count))"
   ]
  },
  {
   "cell_type": "markdown",
   "metadata": {},
   "source": [
    "***\n",
    "### Itertools - accumulate"
   ]
  },
  {
   "cell_type": "code",
   "execution_count": 17,
   "metadata": {},
   "outputs": [
    {
     "name": "stdout",
     "output_type": "stream",
     "text": [
      "original values [87, 23, 12, 100, 32, 67]\n",
      "With default addition [87, 110, 122, 222, 254, 321]\n",
      "With max [87, 87, 87, 100, 100, 100]\n",
      "With min [87, 23, 12, 12, 12, 12]\n",
      "With multiply operator [87, 2001, 24012, 2401200, 76838400, 5148172800]\n"
     ]
    }
   ],
   "source": [
    "import itertools, operator\n",
    "\n",
    "marks = [87,23,12,100,32,67]\n",
    "print(\"original values {0}\".format(marks))\n",
    "\n",
    "accu = itertools.accumulate(marks)\n",
    "print(\"With default addition {0}\".format(list(accu)))\n",
    "\n",
    "accu = itertools.accumulate(marks, max)\n",
    "print(\"With max {0}\".format(list(accu)))\n",
    "\n",
    "accu = itertools.accumulate(marks, min)\n",
    "print(\"With min {0}\".format(list(accu)))\n",
    "\n",
    "accu = itertools.accumulate(marks, operator.mul)\n",
    "print(\"With multiply operator {0}\".format(list(accu)))"
   ]
  },
  {
   "cell_type": "markdown",
   "metadata": {},
   "source": [
    "***\n",
    "### Itertools - chain"
   ]
  },
  {
   "cell_type": "code",
   "execution_count": 19,
   "metadata": {},
   "outputs": [
    {
     "name": "stdout",
     "output_type": "stream",
     "text": [
      "['A', 'B', 'C', 'D', '1', '2', '3', '4', 'X', 'Y', 'Z']\n"
     ]
    }
   ],
   "source": [
    "import itertools\n",
    "\n",
    "# use chain to connect sequences together\n",
    "x = itertools.chain(\"ABCD\", \"1234\", \"XYZ\")\n",
    "print(list(x))"
   ]
  },
  {
   "cell_type": "markdown",
   "metadata": {},
   "source": [
    "***\n",
    "### Itertools - dropwhile & takewhile"
   ]
  },
  {
   "cell_type": "code",
   "execution_count": 21,
   "metadata": {},
   "outputs": [
    {
     "name": "stdout",
     "output_type": "stream",
     "text": [
      "[40, 50, 60, 70, 80, 90, 100]\n",
      "[10, 20, 30]\n"
     ]
    }
   ],
   "source": [
    "import itertools\n",
    "\n",
    "# predicate function\n",
    "def testFunction(x):\n",
    "    return x < 40\n",
    "\n",
    "multiple10 = [10,20,30,40,50,60,70,80,90,100]\n",
    "\n",
    "print(list(itertools.dropwhile(testFunction, multiple10))) # drops value untill predicate function returns True \n",
    "print(list(itertools.takewhile(testFunction, multiple10))) # takes value untill predicate function returns True"
   ]
  },
  {
   "cell_type": "markdown",
   "metadata": {},
   "source": [
    "***\n",
    "### Functions"
   ]
  },
  {
   "cell_type": "code",
   "execution_count": 24,
   "metadata": {},
   "outputs": [
    {
     "name": "stdout",
     "output_type": "stream",
     "text": [
      "filter(function or None, iterable) --> filter object\n",
      "\n",
      "Return an iterator yielding those items of iterable for which function(item)\n",
      "is true. If function is None, return the items that are true.\n"
     ]
    }
   ],
   "source": [
    "print(filter.__doc__) # documentation can be obtained from __doc__"
   ]
  },
  {
   "cell_type": "code",
   "execution_count": 32,
   "metadata": {},
   "outputs": [
    {
     "name": "stdout",
     "output_type": "stream",
     "text": [
      "\n",
      "myFunction(arg1, arg2=None) --> prints the args passed\n",
      "Parameters:\n",
      "    arg1: 1st arg.\n",
      "    arg2: 2nd arg.Defaults to None.\n",
      "    \n"
     ]
    }
   ],
   "source": [
    "def myFunction(agr1, arg2=None):\n",
    "    \"\"\"\n",
    "myFunction(arg1, arg2=None) --> prints the args passed\n",
    "Parameters:\n",
    "    arg1: 1st arg.\n",
    "    arg2: 2nd arg.Defaults to None.\n",
    "    \"\"\"\n",
    "    print(arg1, arg2)\n",
    "    \n",
    "print(myFunction.__doc__)"
   ]
  },
  {
   "cell_type": "markdown",
   "metadata": {},
   "source": [
    "***\n",
    "### Variable number arguments"
   ]
  },
  {
   "cell_type": "code",
   "execution_count": 38,
   "metadata": {},
   "outputs": [
    {
     "name": "stdout",
     "output_type": "stream",
     "text": [
      "5\n",
      "137\n",
      "1289\n"
     ]
    }
   ],
   "source": [
    "def addition(*numbers):\n",
    "    # numbers data type - tuple\n",
    "    return sum(numbers)\n",
    "\n",
    "print(addition(1,4))\n",
    "print(addition(4,123,10))\n",
    "print(addition(*[32,1234,23]))"
   ]
  },
  {
   "cell_type": "markdown",
   "metadata": {},
   "source": [
    "***\n",
    "### Funtions - lambda (anonymous function)"
   ]
  },
  {
   "cell_type": "code",
   "execution_count": 45,
   "metadata": {},
   "outputs": [
    {
     "name": "stdout",
     "output_type": "stream",
     "text": [
      "[32.0, 53.6, 93.2, 212.0]\n",
      "[0.0, 18.333333333333332, 37.77777777777778, 100.0]\n",
      "Using lambdas:\n",
      "[32.0, 53.6, 93.2, 212.0]\n",
      "[0.0, 18.333333333333332, 37.77777777777778, 100.0]\n"
     ]
    }
   ],
   "source": [
    "# syntax:\n",
    "#    lambda (parameters) : (expression)\n",
    "def CelsisusToFahrenheit(temp):\n",
    "    return (temp * 9/5) + 32\n",
    "\n",
    "\n",
    "def FahrenheitToCelsisus(temp):\n",
    "    return (temp-32) * 5/9\n",
    "\n",
    "ctemps = [0, 12, 34, 100]\n",
    "ftemps = [32, 65, 100, 212]\n",
    "\n",
    "# Normal way\n",
    "print(list(map(CelsisusToFahrenheit, ctemps)))\n",
    "print(list(map(FahrenheitToCelsisus, ftemps)))\n",
    "\n",
    "#using lambdas\n",
    "print(\"Using lambdas:\")\n",
    "print(list(map(lambda t: (t*9/5) + 32, ctemps)))\n",
    "print(list(map(lambda t: (t-32)*5/9, ftemps)))\n"
   ]
  },
  {
   "cell_type": "markdown",
   "metadata": {},
   "source": [
    "***\n",
    "### Collections - Named tuple"
   ]
  },
  {
   "cell_type": "code",
   "execution_count": 4,
   "metadata": {},
   "outputs": [
    {
     "name": "stdout",
     "output_type": "stream",
     "text": [
      "Point(x=10, y=20) Point(x=3, y=4)\n",
      "10 4\n",
      "Point(x=11, y=20)\n"
     ]
    }
   ],
   "source": [
    "import collections\n",
    "\n",
    "Point = collections.namedtuple(\"Point\", \"x y\")\n",
    "p1 = Point(10,20)\n",
    "p2 = Point(3,4)\n",
    "print(p1, p2)\n",
    "print(p1.x, p2.y)\n",
    "# Allows replacement\n",
    "p1 = p1._replace(x=11)\n",
    "print(p1)"
   ]
  },
  {
   "cell_type": "markdown",
   "metadata": {},
   "source": [
    "***\n",
    "### Collections - defaultdict"
   ]
  },
  {
   "cell_type": "code",
   "execution_count": 7,
   "metadata": {},
   "outputs": [
    {
     "name": "stdout",
     "output_type": "stream",
     "text": [
      "apple: 102\n",
      "pear: 101\n",
      "orange: 101\n",
      "banana: 103\n",
      "grape: 101\n"
     ]
    }
   ],
   "source": [
    "from collections import defaultdict\n",
    "\n",
    "fruits = ['apple', 'pear', 'orange', 'banana',\n",
    "              'apple', 'grape', 'banana', 'banana']\n",
    "\n",
    "# intializes initial value to int default value 0\n",
    "fruitCounter = defaultdict(int)\n",
    "\n",
    "# intializes initial value to 100\n",
    "# fruitCounter = defaultdict(lambda: 100)\n",
    "\n",
    "# Count the elements in the list\n",
    "for fruit in fruits:\n",
    "    fruitCounter[fruit] += 1\n",
    "\n",
    "# print the result\n",
    "for (k, v) in fruitCounter.items():\n",
    "    print(k + \": \" + str(v))"
   ]
  },
  {
   "cell_type": "markdown",
   "metadata": {},
   "source": [
    "***\n",
    "### Collections - Counters"
   ]
  },
  {
   "cell_type": "code",
   "execution_count": 8,
   "metadata": {},
   "outputs": [
    {
     "name": "stdout",
     "output_type": "stream",
     "text": [
      "2\n",
      "11 students in class 1\n",
      "23 students in class 1 and 2\n",
      "[('James', 3), ('Frank', 2), ('Bob', 1)]\n",
      "[('James', 2)]\n",
      "Counter({'James': 1, 'Frank': 1})\n"
     ]
    }
   ],
   "source": [
    "from collections import Counter\n",
    "\n",
    "# list of students in class 1\n",
    "class1 = [\"Bob\", \"James\", \"Chad\", \"Darcy\", \"Penny\", \"Hannah\"\n",
    "          \"Kevin\", \"James\", \"Melanie\", \"Becky\", \"Steve\", \"Frank\"]\n",
    "\n",
    "# list of students in class 2\n",
    "class2 = [\"Bill\", \"Barry\", \"Cindy\", \"Debbie\", \"Frank\",\n",
    "          \"Gabby\", \"Kelly\", \"James\", \"Joe\", \"Sam\", \"Tara\", \"Ziggy\"]\n",
    "\n",
    "# Create a Counter for class1 and class2\n",
    "c1 = Counter(class1)\n",
    "c2 = Counter(class2)\n",
    "\n",
    "# How many students in class 1 named James?\n",
    "print(c1[\"James\"])\n",
    "\n",
    "# How many students are in class 1?\n",
    "print(sum(c1.values()), \"students in class 1\")\n",
    "\n",
    "# Combine the two classes\n",
    "c1.update(class2)\n",
    "print(sum(c1.values()), \"students in class 1 and 2\")\n",
    "\n",
    "# What's the most common name in the two classes?\n",
    "print(c1.most_common(3))\n",
    "\n",
    "# Separate the classes again\n",
    "c1.subtract(class2)\n",
    "print(c1.most_common(1))\n",
    "\n",
    "# What's common between the two classes?\n",
    "print(c1 & c2)"
   ]
  },
  {
   "cell_type": "markdown",
   "metadata": {},
   "source": [
    "***\n",
    "### Collections - ordered dict"
   ]
  },
  {
   "cell_type": "code",
   "execution_count": 9,
   "metadata": {},
   "outputs": [
    {
     "name": "stdout",
     "output_type": "stream",
     "text": [
      "OrderedDict([('Warriors', (25, 5)), ('Rockets', (24, 6)), ('Dragons', (22, 8)), ('Cardinals', (20, 10)), ('Chargers', (20, 10)), ('Royals', (18, 12)), ('Jets', (16, 14)), ('Kings', (15, 15))])\n",
      "Top team:  Warriors (25, 5)\n",
      "1 Rockets\n",
      "2 Dragons\n",
      "3 Cardinals\n",
      "4 Chargers\n",
      "Equality test:  False\n"
     ]
    }
   ],
   "source": [
    "from collections import OrderedDict\n",
    "\n",
    "# list of sport teams with wins and losses\n",
    "sportTeams = [(\"Royals\", (18, 12)), (\"Rockets\", (24, 6)), \n",
    "            (\"Cardinals\", (20, 10)), (\"Dragons\", (22, 8)),\n",
    "            (\"Kings\", (15, 15)), (\"Chargers\", (20, 10)), \n",
    "            (\"Jets\", (16, 14)), (\"Warriors\", (25, 5))]\n",
    "\n",
    "# sort the teams by number of wins\n",
    "sortedTeams = sorted(sportTeams, key=lambda t: t[1][0], reverse=True)\n",
    "\n",
    "# create an ordered dictionary of the teams\n",
    "teams = OrderedDict(sortedTeams)\n",
    "print(teams)\n",
    "\n",
    "# Use popitem to remove the top item\n",
    "tm, wl = teams.popitem(False)\n",
    "print(\"Top team: \", tm, wl)\n",
    "\n",
    "# What are next the top 4 teams?\n",
    "for i, team in enumerate(teams, start=1):\n",
    "    print(i, team)\n",
    "    if i == 4:\n",
    "        break\n",
    "\n",
    "# test for equality\n",
    "a = OrderedDict({\"a\": 1, \"b\": 2, \"c\": 3})\n",
    "b = OrderedDict({\"a\": 1, \"c\": 3, \"b\": 2})\n",
    "print(\"Equality test: \", a == b)\n"
   ]
  },
  {
   "cell_type": "markdown",
   "metadata": {},
   "source": [
    "***\n",
    "### Collection - Deque"
   ]
  },
  {
   "cell_type": "code",
   "execution_count": 14,
   "metadata": {},
   "outputs": [
    {
     "name": "stdout",
     "output_type": "stream",
     "text": [
      "Item count: 26\n",
      "A,B,C,D,E,F,G,H,I,J,K,L,M,N,O,P,Q,R,S,T,U,V,W,X,Y,Z,\n",
      "\n",
      "After poping and appending - deque([1, 'b', 'c', 'd', 'e', 'f', 'g', 'h', 'i', 'j', 'k', 'l', 'm', 'n', 'o', 'p', 'q', 'r', 's', 't', 'u', 'v', 'w', 'x', 'y', 2])\n",
      "\n",
      "Before rotating - deque([1, 'b', 'c', 'd', 'e', 'f', 'g', 'h', 'i', 'j', 'k', 'l', 'm', 'n', 'o', 'p', 'q', 'r', 's', 't', 'u', 'v', 'w', 'x', 'y', 2])\n",
      "\n",
      "After rotating by 1 - deque([2, 1, 'b', 'c', 'd', 'e', 'f', 'g', 'h', 'i', 'j', 'k', 'l', 'm', 'n', 'o', 'p', 'q', 'r', 's', 't', 'u', 'v', 'w', 'x', 'y'])\n"
     ]
    }
   ],
   "source": [
    "import collections\n",
    "import string\n",
    "\n",
    "# initialize a deque with lowercase letters\n",
    "d = collections.deque(string.ascii_lowercase)\n",
    "\n",
    "# deques support the len() function\n",
    "print(\"Item count: \" + str(len(d)))\n",
    "\n",
    "# deques can be iterated over\n",
    "for elem in d:\n",
    "    print(elem.upper(), end=\",\")\n",
    "\n",
    "# manipulate items from either end\n",
    "d.pop()\n",
    "d.popleft()\n",
    "d.append(2)\n",
    "d.appendleft(1)\n",
    "print(\"\\n\\nAfter poping and appending - {0}\".format(d))\n",
    "\n",
    "# rotate the deque\n",
    "print(\"\\nBefore rotating - {0}\".format(d))\n",
    "d.rotate(1)\n",
    "print(\"\\nAfter rotating by 1 - {0}\".format(d))"
   ]
  },
  {
   "cell_type": "markdown",
   "metadata": {},
   "source": [
    "***\n",
    "### Class - Enum"
   ]
  },
  {
   "cell_type": "code",
   "execution_count": 15,
   "metadata": {},
   "outputs": [
    {
     "name": "stdout",
     "output_type": "stream",
     "text": [
      "Fruit.APPLE\n",
      "<enum 'Fruit'>\n",
      "<Fruit.APPLE: 1>\n",
      "APPLE 1\n",
      "5\n",
      "Come Mr. Tally-man\n"
     ]
    }
   ],
   "source": [
    "from enum import Enum, unique, auto\n",
    "\n",
    "@unique #value should be unique\n",
    "class Fruit(Enum):\n",
    "    APPLE = 1\n",
    "    BANANA = 2\n",
    "    ORANGE = 3\n",
    "    TOMATO = 4\n",
    "    PEAR = auto()\n",
    "\n",
    "# enums have human-readable values and types\n",
    "print(Fruit.APPLE)\n",
    "print(type(Fruit.APPLE))\n",
    "print(repr(Fruit.APPLE))\n",
    "\n",
    "# enums have name and value properties\n",
    "print(Fruit.APPLE.name, Fruit.APPLE.value)\n",
    "\n",
    "# print the auto-generated value\n",
    "print(Fruit.PEAR.value)\n",
    "\n",
    "# enums are hashable - can be used as keys\n",
    "myFruits = {}\n",
    "myFruits[Fruit.BANANA] = \"Come Mr. Tally-man\"\n",
    "print(myFruits[Fruit.BANANA])"
   ]
  },
  {
   "cell_type": "markdown",
   "metadata": {},
   "source": [
    "### Class - Strings"
   ]
  },
  {
   "cell_type": "code",
   "execution_count": 18,
   "metadata": {},
   "outputs": [
    {
     "name": "stdout",
     "output_type": "stream",
     "text": [
      "<Person Class - fname:Joe, lname:Marini, age25>\n",
      "Person (Joe Marini is 25)\n",
      "Formatted: Person (Joe Marini is 25)\n",
      "b'Person (Joe Marini is 25)'\n"
     ]
    }
   ],
   "source": [
    "#customize string representations of objects\n",
    "class Person():\n",
    "    def __init__(self):\n",
    "        self.fname = \"Joe\"\n",
    "        self.lname = \"Marini\"\n",
    "        self.age = 25\n",
    "\n",
    "    # use __repr__ to create a string useful for debugging\n",
    "    def __repr__(self):\n",
    "        return \"<Person Class - fname:{0}, lname:{1}, age{2}>\".format(self.fname, self.lname, self.age)\n",
    "\n",
    "    # use str for a more human-readable string\n",
    "    def __str__(self):\n",
    "        return \"Person ({0} {1} is {2})\".format(self.fname, self.lname, self.age)\n",
    "\n",
    "    # use bytes to convert the informal string to a bytes object\n",
    "    def __bytes__(self):\n",
    "        return bytes(self.__str__().encode('utf-8'))\n",
    "\n",
    "\n",
    "\n",
    "# create a new Person object\n",
    "cls1 = Person()\n",
    "\n",
    "# use different Python functions to convert it to a string\n",
    "print(repr(cls1))\n",
    "print(str(cls1))\n",
    "print(\"Formatted: {0}\".format(cls1))\n",
    "print(bytes(cls1))\n"
   ]
  },
  {
   "cell_type": "markdown",
   "metadata": {},
   "source": [
    "### Class - Class Attribute Functions\n",
    "\n",
    "|          Attribute Function         \t|    Called When    \t| Description                                                            \t|\n",
    "|:-----------------------------------:\t|:-----------------:\t|------------------------------------------------------------------------\t|\n",
    "| object.__getattribute__(Self, attr) \t|    object.attr    \t| is called every time when a attribute is requested (default behaviour) \t|\n",
    "|    object.__getattr__(Self, attr)   \t|    object.attr    \t| is called only when the attribyte  cannot be found on the object       \t|\n",
    "| object.__setattr__(self, attr, val) \t| object.attr = val \t| is called when a attribute is set                                      \t|\n",
    "| object.__delattr__(Self)            \t| del object.attr   \t| is called when a attribute is deleted                                  \t|\n",
    "| object.__dir__(self)                \t| dir(object)       \t| when dir(object) is called                                                                       \t|"
   ]
  },
  {
   "cell_type": "code",
   "execution_count": 22,
   "metadata": {},
   "outputs": [
    {
     "name": "stdout",
     "output_type": "stream",
     "text": [
      "(50, 75, 100)\n",
      "#324b64\n",
      "\n",
      "After changing (125, 200, 86)\n",
      "#7dc856\n",
      "125\n",
      "dir - list all attributes ['blue', 'green', 'hexcolor', 'red', 'rgbolor']\n"
     ]
    }
   ],
   "source": [
    "# customize string representations of objects\n",
    "class myColor():\n",
    "    def __init__(self):\n",
    "        self.red = 50\n",
    "        self.green = 75\n",
    "        self.blue = 100\n",
    "\n",
    "    # use getattr to dynamically return a value\n",
    "    def __getattr__(self, attr):\n",
    "        if attr == \"rgbcolor\":\n",
    "            return (self.red, self.green, self.blue)\n",
    "        elif attr == \"hexcolor\":\n",
    "            return \"#{0:02x}{1:02x}{2:02x}\".format(self.red, self.green, self.blue)\n",
    "        else:\n",
    "            raise AttributeError\n",
    "\n",
    "    # use setattr to dynamically return a value\n",
    "    def __setattr__(self, attr, val):\n",
    "        if attr == \"rgbcolor\":\n",
    "            self.red = val[0]\n",
    "            self.green = val[1]\n",
    "            self.blue = val[2]\n",
    "        else:\n",
    "            super().__setattr__(attr, val)\n",
    "\n",
    "    # use dir to list the available properties\n",
    "    def __dir__(self):\n",
    "        return (\"red\", \"green\", \"blue\", \"rgbolor\", \"hexcolor\")\n",
    "\n",
    "# create an instance of myColor\n",
    "cls1 = myColor()\n",
    "# print the value of a computed attribute\n",
    "print(cls1.rgbcolor)\n",
    "print(cls1.hexcolor)\n",
    "\n",
    "# set the value of a computed attribute\n",
    "cls1.rgbcolor = (125, 200, 86)\n",
    "print(\"\\nAfter changing {0}\".format(cls1.rgbcolor))\n",
    "print(cls1.hexcolor)\n",
    "\n",
    "# access a regular attribute\n",
    "print(cls1.red)\n",
    "\n",
    "# list the available attributes\n",
    "print(\"dir - list all attributes {0}\".format(dir(cls1)))"
   ]
  },
  {
   "cell_type": "markdown",
   "metadata": {},
   "source": [
    "***\n",
    "### Class - Comparision"
   ]
  },
  {
   "cell_type": "code",
   "execution_count": 30,
   "metadata": {},
   "outputs": [
    {
     "name": "stdout",
     "output_type": "stream",
     "text": [
      "False\n",
      "True\n",
      "Employees sorted by level, seniority : ['John', 'Tim', 'Tyler', 'Rebecca', 'Jane']\n"
     ]
    }
   ],
   "source": [
    "# Use special methods to compare objects to each other\n",
    "\n",
    "class Employee():\n",
    "    def __init__(self, fname, lname, level, yrsService):\n",
    "        self.fname = fname\n",
    "        self.lname = lname\n",
    "        self.level = level\n",
    "        self.seniority = yrsService\n",
    "\n",
    "    # implement comparison functions by emp level\n",
    "    def __ge__(self, other):\n",
    "        if self.level == other.level:\n",
    "            return self.seniority >= other.seniority\n",
    "        return self.level >= other.level\n",
    "\n",
    "    def __gt__(self, other):\n",
    "        if self.level == other.level:\n",
    "            return self.seniority > other.seniority\n",
    "        return self.level > other.level\n",
    "\n",
    "    def __lt__(self, other):\n",
    "        if self.level == other.level:\n",
    "            return self.seniority < other.seniority\n",
    "        return self.level < other.level\n",
    "\n",
    "    def __le__(self, other):\n",
    "        if self.level == other.level:\n",
    "            return self.seniority <= other.seniority\n",
    "        return self.level <= other.level\n",
    "\n",
    "    def __eq__(self, other):\n",
    "        return self.level == other.level\n",
    "\n",
    "    \n",
    "# define some employees\n",
    "dept = []\n",
    "dept.append(Employee(\"Tim\", \"Sims\", 5, 9))\n",
    "dept.append(Employee(\"John\", \"Doe\", 4, 12))\n",
    "dept.append(Employee(\"Jane\", \"Smith\", 6, 6))\n",
    "dept.append(Employee(\"Rebecca\", \"Robinson\", 5, 13))\n",
    "dept.append(Employee(\"Tyler\", \"Durden\", 5, 12))\n",
    "\n",
    "# Who's more senior?\n",
    "print(bool(dept[0] > dept[2]))\n",
    "print(bool(dept[4] < dept[3]))\n",
    "\n",
    "# sort the items\n",
    "emps = sorted(dept)\n",
    "print(\"Employees sorted by level, seniority : {0}\".format([emp.fname for emp in emps]))"
   ]
  },
  {
   "cell_type": "markdown",
   "metadata": {},
   "source": [
    "___\n",
    "### Logging\n",
    "\n",
    "|Message Level | Logging API| Description\n",
    "|--- |--- |--- |\n",
    "|DEBUG | logging.debug() | Diagnostic information useful for debugging\n",
    "|INFO | logging.info() | General information about program execution results\n",
    "|WARNING | logging.warning() |  Something unexpected, or an approaching problem\n",
    "|ERROR | logging.error() |  Unable to perform a specific operation due to problem\n",
    "|CRITICAL | logging.critical() | Program may not be able to continue, serious error\n",
    "\n",
    "* By default only level after warning will be logged but it can be altered by specifing `logging.basicConfig(level=logging.DEBUG)`"
   ]
  },
  {
   "cell_type": "code",
   "execution_count": 31,
   "metadata": {},
   "outputs": [],
   "source": [
    "import logging\n",
    "# Use basicConfig to configure logging\n",
    "# this is only executed once, subsequent calls to\n",
    "# basicConfig will have no effect\n",
    "logging.basicConfig(level=logging.DEBUG,\n",
    "                    filemode=\"w\",\n",
    "                    filename=\"output.log\")\n",
    "\n",
    "# Try out each of the log levels\n",
    "logging.debug(\"This is a debug-level log message\")\n",
    "logging.info(\"This is an info-level log message\")\n",
    "logging.warning(\"This is a warning-level message\")\n",
    "logging.error(\"This is an error-level message\")\n",
    "logging.critical(\"This is a critical-level message\")\n",
    "\n",
    "# Output formatted string to the log\n",
    "logging.info(\"Here's a {} variable and an int: {}\".format(\"string\", 10))"
   ]
  },
  {
   "cell_type": "markdown",
   "metadata": {},
   "source": [
    "***\n",
    "### Comprehensions - List"
   ]
  },
  {
   "cell_type": "code",
   "execution_count": 35,
   "metadata": {},
   "outputs": [
    {
     "name": "stdout",
     "output_type": "stream",
     "text": [
      "Without List comprehension [36, 64, 100, 144, 196]\n",
      "WIth List comprehension [25, 49, 81, 121, 169, 225]\n"
     ]
    }
   ],
   "source": [
    "# define two lists of numbers\n",
    "evens = [2, 4, 6, 8, 10, 12, 14, 16, 18, 20]\n",
    "odds = [1, 3, 5, 7, 9, 11, 13, 15, 17, 19]\n",
    "\n",
    "# Perform a mapping and filter function on a list\n",
    "evenSquared = list(\n",
    "    map(lambda e: e**2, filter(lambda e: e > 4 and e < 16, evens)))\n",
    "print(\"Without List comprehension {0}\".format(evenSquared))\n",
    "\n",
    "# Limit the items operated on with a predicate condition\n",
    "oddSquared = [e ** 2 for e in odds if e > 3 and e < 17]\n",
    "print(\"With List comprehension {0}\".format(oddSquared))"
   ]
  },
  {
   "cell_type": "markdown",
   "metadata": {},
   "source": [
    "***\n",
    "### Comprehensions - Dict"
   ]
  },
  {
   "cell_type": "code",
   "execution_count": 36,
   "metadata": {},
   "outputs": [
    {
     "name": "stdout",
     "output_type": "stream",
     "text": [
      "{0: 32.0, 12: 53.6, 34: 93.2}\n",
      "53.6\n",
      "{'Jones': 24, 'Jameson': 18, 'Smith': 58, 'Burns': 7, 'White': 12, 'Macke': 88, 'Perce': 4}\n"
     ]
    }
   ],
   "source": [
    "# define a list of temperature values\n",
    "ctemps = [0, 12, 34, 100]\n",
    "\n",
    "# Use a comprehension to build a dictionary\n",
    "tempDict = {t: (t * 9/5) + 32 for t in ctemps if t < 100}\n",
    "print(tempDict)\n",
    "print(tempDict[12])\n",
    "\n",
    "# Merge two dictionaries with a comprehension\n",
    "team1 = {\"Jones\": 24, \"Jameson\": 18, \"Smith\": 58, \"Burns\": 7}\n",
    "team2 = {\"White\": 12, \"Macke\": 88, \"Perce\": 4}\n",
    "newTeam = {k: v for team in (team1, team2) for k, v in team.items()}\n",
    "print(newTeam)"
   ]
  },
  {
   "cell_type": "markdown",
   "metadata": {},
   "source": [
    "***\n",
    "### Comprehensions - Set"
   ]
  },
  {
   "cell_type": "code",
   "execution_count": 37,
   "metadata": {},
   "outputs": [
    {
     "name": "stdout",
     "output_type": "stream",
     "text": [
      "[41.0, 50.0, 53.6, 57.2, 50.0, 73.4, 105.8, 86.0, 53.6, 75.2, 53.6, 64.4, 84.2]\n",
      "{64.4, 73.4, 41.0, 105.8, 75.2, 50.0, 84.2, 53.6, 86.0, 57.2}\n",
      "{'R', 'N', 'V', 'F', 'T', 'X', 'E', 'O', 'Y', 'Z', 'J', 'A', 'P', 'Q', 'K', 'G', 'C', 'B', 'M', 'H', 'W', 'U', 'I', 'L', 'D'}\n"
     ]
    }
   ],
   "source": [
    "# define a list of temperature data points\n",
    "ctemps = [5, 10, 12, 14, 10, 23, 41, 30, 12, 24, 12, 18, 29]\n",
    "\n",
    "# build a set of unique Fahrenheit temperatures\n",
    "ftemps1 = [(t * 9/5) + 32 for t in ctemps]\n",
    "ftemps2 = {(t * 9/5) + 32 for t in ctemps}\n",
    "print(ftemps1)\n",
    "print(ftemps2)\n",
    "\n",
    "# build a set from an input source\n",
    "sTemp = \"The quick brown fox jumped over the lazy dog\"\n",
    "chars = {c.upper() for c in sTemp if not c.isspace()}\n",
    "print(chars)"
   ]
  },
  {
   "cell_type": "code",
   "execution_count": null,
   "metadata": {},
   "outputs": [],
   "source": []
  }
 ],
 "metadata": {
  "kernelspec": {
   "display_name": "Python 3",
   "language": "python",
   "name": "python3"
  },
  "language_info": {
   "codemirror_mode": {
    "name": "ipython",
    "version": 3
   },
   "file_extension": ".py",
   "mimetype": "text/x-python",
   "name": "python",
   "nbconvert_exporter": "python",
   "pygments_lexer": "ipython3",
   "version": "3.6.8"
  }
 },
 "nbformat": 4,
 "nbformat_minor": 2
}
